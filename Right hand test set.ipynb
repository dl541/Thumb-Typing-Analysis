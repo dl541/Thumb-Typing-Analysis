{
 "cells": [
  {
   "cell_type": "code",
   "execution_count": 18,
   "metadata": {},
   "outputs": [
    {
     "data": {
      "text/html": [
       "<script type=\"text/javascript\">window.PlotlyConfig = {MathJaxConfig: 'local'};</script><script type=\"text/javascript\">if (window.MathJax) {MathJax.Hub.Config({SVG: {font: \"STIX-Web\"}});}</script><script>requirejs.config({paths: { 'plotly': ['https://cdn.plot.ly/plotly-latest.min']},});if(!window._Plotly) {require(['plotly'],function(plotly) {window._Plotly=plotly;});}</script>"
      ],
      "text/vnd.plotly.v1+html": [
       "<script type=\"text/javascript\">window.PlotlyConfig = {MathJaxConfig: 'local'};</script><script type=\"text/javascript\">if (window.MathJax) {MathJax.Hub.Config({SVG: {font: \"STIX-Web\"}});}</script><script>requirejs.config({paths: { 'plotly': ['https://cdn.plot.ly/plotly-latest.min']},});if(!window._Plotly) {require(['plotly'],function(plotly) {window._Plotly=plotly;});}</script>"
      ]
     },
     "metadata": {},
     "output_type": "display_data"
    }
   ],
   "source": [
    "import matplotlib.pyplot as plt\n",
    "from plotly import tools\n",
    "from mpl_toolkits.mplot3d import Axes3D\n",
    "import collections\n",
    "import numpy as np\n",
    "import plotly as py\n",
    "import plotly.graph_objs as go\n",
    "import datetime\n",
    "from sklearn.model_selection import train_test_split\n",
    "import pandas as pd\n",
    "from joblib import dump, load\n",
    "from sklearn.model_selection import train_test_split\n",
    "from sklearn.neural_network import MLPClassifier\n",
    "\n",
    "py.offline.init_notebook_mode(connected = True)"
   ]
  },
  {
   "cell_type": "code",
   "execution_count": 33,
   "metadata": {},
   "outputs": [],
   "source": [
    "NN_clf = load('NN_keypress_clf.joblib')"
   ]
  },
  {
   "cell_type": "code",
   "execution_count": 6,
   "metadata": {},
   "outputs": [],
   "source": [
    "def FindPhoneDataIntervals(phoneData):\n",
    "    intervals = []\n",
    "    \n",
    "    currentInterval = []\n",
    "    currentCoordinate = None\n",
    "    multiKeypressInterval = []\n",
    "    multiKeypressCoordinate = None\n",
    "    for datum in phoneData:\n",
    "        if datum['eventID'] == 0:\n",
    "            currentInterval.append(datum['timeStamp'])\n",
    "            currentCoordinate = datum['x']\n",
    "        \n",
    "        if datum['eventID'] == 5:\n",
    "            if currentInterval == []:\n",
    "                currentInterval.append(datum['timeStamp'])\n",
    "            else:\n",
    "                multiKeypressInterval.append(datum['timeStamp'])\n",
    "                multiKeypressCoordinate = datum['x']\n",
    "        \n",
    "        if len(currentInterval) == 0 and len(multiKeypressInterval) == 0:\n",
    "            print(\"Failed to match a key release with the following time stamp: {}\".format(datum['timeStamp']))\n",
    "            continue\n",
    "            \n",
    "        if datum['eventID'] == 1:\n",
    "            currentInterval.append(datum['timeStamp'])\n",
    "            intervals.append(currentInterval)\n",
    "            currentInterval = []\n",
    "            multiKeypressInterval = []\n",
    "                \n",
    "        if datum['eventID'] == 6:\n",
    "            if len(currentInterval) == 1 and len(multiKeypressInterval) == 1:\n",
    "                if abs(datum['x'] - multiKeypressCoordinate) < abs(datum['x'] - currentCoordinate):\n",
    "                    multiKeypressInterval.append(datum['timeStamp'])\n",
    "                    intervals.append(multiKeypressInterval)\n",
    "                else:\n",
    "                    currentInterval.append(datum['timeStamp'])\n",
    "                    intervals.append(currentInterval)\n",
    "                    currentInterval = multiKeypressInterval\n",
    "                    \n",
    "                multiKeypressInterval = []\n",
    "                \n",
    "            else:\n",
    "                currentInterval.append(datum['timeStamp'])\n",
    "                intervals.append(currentInterval)\n",
    "                currentInterval = []\n",
    "                \n",
    "            \n",
    "            \n",
    "    return intervals\n",
    "\n",
    "def getKeypressLabels(thumbData, phoneData):\n",
    "    keypressLabels = np.zeros(len(thumbData))\n",
    "    \n",
    "    phoneDataIntervals = FindPhoneDataIntervals(phoneData)\n",
    "    intervalIndex = 0\n",
    "    currentInterval = phoneDataIntervals[intervalIndex]\n",
    "    \n",
    "    for thumbDataIndex, thumbDatum in thumbData.iterrows():\n",
    "        while currentInterval[1] < thumbDatum['timeStamp']:\n",
    "            intervalIndex += 1\n",
    "            \n",
    "            if intervalIndex > len(phoneDataIntervals):\n",
    "                return keypressLabels\n",
    "            \n",
    "            currentInterval = phoneDataIntervals[intervalIndex]\n",
    "        \n",
    "        if thumbDatum['timeStamp'] >= currentInterval[0] and thumbDatum['timeStamp'] <= currentInterval[1]:\n",
    "            keypressLabels[thumbDataIndex] = 1\n",
    "            \n",
    "        elif thumbDatum['timeStamp'] < currentInterval[0]:\n",
    "            continue\n",
    "            \n",
    "    return keypressLabels\n",
    "            \n",
    "            "
   ]
  },
  {
   "cell_type": "code",
   "execution_count": 7,
   "metadata": {},
   "outputs": [
    {
     "data": {
      "text/plain": [
       "' '"
      ]
     },
     "execution_count": 7,
     "metadata": {},
     "output_type": "execute_result"
    }
   ],
   "source": [
    "keyboardDataFileName = 'keyboard_data.txt'\n",
    "g_thumbKeyboardPositions = collections.defaultdict(np.array)\n",
    "with open(keyboardDataFileName, 'r') as file:\n",
    "    for line in file:\n",
    "        posX, posY, letter = line.split()\n",
    "        g_thumbKeyboardPositions[letter] = np.array([float(posX), float(posY)])\n",
    "\n",
    "g_thumbKeyboardPositions[\" \"] = np.array([900., 850.]) \n",
    "\n",
    "def gridCoordinateSearch(coordinate, thumbKeyboardPositions):\n",
    "    leadingLetters = [\"q\", \"a\",\"z\", \" \"]\n",
    "    rows = [\"qwertyuiop\", \"asdfghjkl\", \"zxcvbnm\", \" \"]\n",
    "    closestRowIndex = min([ind for ind in range(len(leadingLetters))], key = lambda ind: abs(coordinate[1] - thumbKeyboardPositions[leadingLetters[ind]][1]))\n",
    "    \n",
    "    closestLetter = min([letter for letter in rows[closestRowIndex]], key = lambda letter: abs(coordinate[0] - thumbKeyboardPositions[letter][0]))\n",
    "    \n",
    "    return closestLetter\n",
    "\n",
    "gridCoordinateSearch(np.array([000.,900.]), g_thumbKeyboardPositions)\n",
    "        \n",
    "    "
   ]
  },
  {
   "cell_type": "code",
   "execution_count": 8,
   "metadata": {},
   "outputs": [],
   "source": [
    "markersDataFileName = \"2019-03-13-16-03-04-325_markers_right.txt\"\n",
    "phoneDataFileName = \"2019-03-13-16-03-04-320_right.txt\""
   ]
  },
  {
   "cell_type": "code",
   "execution_count": 10,
   "metadata": {},
   "outputs": [],
   "source": [
    "markersData = []\n",
    "phoneData = []\n",
    "\n",
    "with open(phoneDataFileName, 'r') as file:\n",
    "    itemHeaders = [\"timeStamp\", \"logIndex\", \"keyboardID\", \"eventID\", \"x\", \"y\"]\n",
    "    for line in file:\n",
    "        logEntry = line.split()\n",
    "        if len(logEntry) == len(itemHeaders):\n",
    "            phoneDatum = {itemName: data for itemName, data in zip(itemHeaders, logEntry)}\n",
    "            phoneDatum[\"timeStamp\"] = datetime.datetime.strptime(phoneDatum[\"timeStamp\"], \"%Y-%m-%d-%H-%M-%S-%f\")\n",
    "            phoneDatum[\"eventID\"] = int(phoneDatum[\"eventID\"])\n",
    "            phoneDatum[\"logIndex\"] = int(phoneDatum[\"logIndex\"])\n",
    "            phoneDatum[\"x\"] = float(phoneDatum[\"x\"])\n",
    "            phoneDatum[\"y\"] = float(phoneDatum[\"y\"])          \n",
    "            phoneData.append(phoneDatum)\n",
    "        \n",
    "with open(markersDataFileName, 'r') as file:\n",
    "    itemHeaders = [\"timeStamp\", \"logIndex\", \"markerID\", \"x\", \"y\", \"z\"]\n",
    "    for line in file:\n",
    "        if logEntry != \"\":\n",
    "            logEntry = line.split()\n",
    "            if len(logEntry) == len(itemHeaders):\n",
    "                timeStamp = datetime.datetime.strptime(logEntry[0], \"%Y-%m-%d-%H-%M-%S-%f\")\n",
    "                if timeStamp >= phoneData[0]['timeStamp'] and timeStamp <= phoneData[-1]['timeStamp']:\n",
    "                    markersDatum = {itemName: data for itemName, data in zip(itemHeaders, logEntry)}\n",
    "                    markersDatum[\"timeStamp\"] = timeStamp\n",
    "                    markersDatum[\"markerID\"] = int(markersDatum[\"markerID\"])\n",
    "                    markersDatum[\"logIndex\"] = int(markersDatum[\"logIndex\"])\n",
    "                    markersDatum[\"x\"] = float(markersDatum[\"x\"])\n",
    "                    markersDatum[\"y\"] = float(markersDatum[\"y\"])\n",
    "                    markersDatum['z'] = float(markersDatum['z'])\n",
    "                    markersData.append(markersDatum)\n",
    "\n",
    "markersDataDictByID = collections.defaultdict(list)\n",
    "\n",
    "for markersDatum in markersData:\n",
    "    markersDataDictByID[markersDatum['markerID']].append(markersDatum)"
   ]
  },
  {
   "cell_type": "code",
   "execution_count": 11,
   "metadata": {},
   "outputs": [
    {
     "name": "stderr",
     "output_type": "stream",
     "text": [
      "C:\\Users\\Dave Lei\\AppData\\Local\\Continuum\\anaconda3\\lib\\site-packages\\plotly\\offline\\offline.py:621: UserWarning:\n",
      "\n",
      "Your filename `right hand trajectory test set` didn't end with .html. Adding .html to the end of your file.\n",
      "\n"
     ]
    },
    {
     "data": {
      "text/plain": [
       "'file://C:\\\\Users\\\\Dave Lei\\\\Part IIB project\\\\Data logging\\\\right hand trajectory test set.html'"
      ]
     },
     "execution_count": 11,
     "metadata": {},
     "output_type": "execute_result"
    }
   ],
   "source": [
    "plotData = collections.defaultdict(list)\n",
    "markersData.sort(key = lambda datum:datum['timeStamp'])\n",
    "for data in markersData[:20000]:\n",
    "    plotData[data[\"markerID\"]].append([float(data['x']), float(data['y']), float(data['z'])])\n",
    "\n",
    "traces = []\n",
    "for markerID, trajectory in plotData.items():\n",
    "    trajectory = np.array(trajectory)\n",
    "    trace = go.Scatter3d(\n",
    "        x=trajectory[:,0],\n",
    "        y=trajectory[:,1],\n",
    "        z=trajectory[:,2],\n",
    "        mode='lines',\n",
    "        name = markerID\n",
    "    )\n",
    "    traces.append(trace)\n",
    "    \n",
    "fig = go.Figure(data = traces)\n",
    "\n",
    "py.offline.plot(fig, filename = \"right hand trajectory test set\")"
   ]
  },
  {
   "cell_type": "code",
   "execution_count": 34,
   "metadata": {},
   "outputs": [],
   "source": [
    "tipMarkerIDs = [54492]\n",
    "middleMarkerIDs = [54494]\n",
    "endMarkerIDs = [54491]\n",
    "calibrationMarkerID = 51020"
   ]
  },
  {
   "cell_type": "code",
   "execution_count": 35,
   "metadata": {},
   "outputs": [],
   "source": [
    "tipMarkerData, middleMarkerData, endMarkerData = [], [], []\n",
    "\n",
    "for markerID in tipMarkerIDs:\n",
    "    tipMarkerData.extend(markersDataDictByID[markerID])\n",
    "    \n",
    "for markerID in middleMarkerIDs:\n",
    "    middleMarkerData.extend(markersDataDictByID[markerID])\n",
    "    \n",
    "for markerID in endMarkerIDs:\n",
    "    endMarkerData.extend(markersDataDictByID[markerID])\n",
    "    \n",
    "calibration_centre = np.mean([np.array([datum['x'], datum['y'], datum['z']]) for datum in markersDataDictByID[calibrationMarkerID]], axis = 0)"
   ]
  },
  {
   "cell_type": "code",
   "execution_count": 36,
   "metadata": {},
   "outputs": [],
   "source": [
    "df_tip = pd.DataFrame(tipMarkerData, columns = ['timeStamp', 'x', 'y', 'z'])\n",
    "df_mid = pd.DataFrame(middleMarkerData, columns = ['timeStamp', 'x', 'y', 'z'])\n",
    "df_end = pd.DataFrame(endMarkerData, columns = ['timeStamp', 'x', 'y', 'z'])\n",
    "\n",
    "#for df in [df_tip, df_mid, df_end]:\n",
    "#    df['x'] = df['x'] - calibration_centre[0]\n",
    "#    df['y'] = df['y'] - calibration_centre[1]\n",
    "#    df['z'] = df['z'] - calibration_centre[2]\n",
    "\n",
    "df_threeMarkers = pd.merge(pd.merge(df_tip, df_mid, on='timeStamp', how = 'inner', suffixes = ['_tip', '_mid']), df_end, on = 'timeStamp', how = 'inner')\n",
    "df_threeMarkers['label'] = getKeypressLabels(df_threeMarkers, phoneData)"
   ]
  },
  {
   "cell_type": "code",
   "execution_count": 17,
   "metadata": {},
   "outputs": [
    {
     "name": "stderr",
     "output_type": "stream",
     "text": [
      "C:\\Users\\Dave Lei\\AppData\\Local\\Continuum\\anaconda3\\lib\\site-packages\\ipykernel_launcher.py:6: RuntimeWarning:\n",
      "\n",
      "divide by zero encountered in true_divide\n",
      "\n",
      "C:\\Users\\Dave Lei\\AppData\\Local\\Continuum\\anaconda3\\lib\\site-packages\\ipykernel_launcher.py:6: RuntimeWarning:\n",
      "\n",
      "invalid value encountered in true_divide\n",
      "\n"
     ]
    }
   ],
   "source": [
    "deltaTime = np.diff(df_threeMarkers['timeStamp']) / np.timedelta64(1, 's')\n",
    "\n",
    "df_threeMarkersWithSpeed = df_threeMarkers.copy()\n",
    "for name, column in df_threeMarkers.iteritems():\n",
    "    if name != 'timeStamp' and name != 'label':\n",
    "        speed = pd.DataFrame(np.divide(np.diff(df_threeMarkers[name]),deltaTime), columns = ['delta_{}'.format(name)])\n",
    "        df_threeMarkersWithSpeed = pd.merge(df_threeMarkersWithSpeed, speed, left_index=True, right_index=True)\n",
    "        \n",
    "df_threeMarkersWithSpeed = df_threeMarkersWithSpeed.replace([np.inf, -np.inf], np.nan).dropna()"
   ]
  },
  {
   "cell_type": "code",
   "execution_count": 37,
   "metadata": {},
   "outputs": [],
   "source": [
    "features = [name for name, column in df_threeMarkersWithSpeed.iteritems() if name != 'timeStamp' and name != 'label']\n",
    "X, y = df_threeMarkersWithSpeed[features], df_threeMarkersWithSpeed['label']"
   ]
  },
  {
   "cell_type": "code",
   "execution_count": 38,
   "metadata": {},
   "outputs": [
    {
     "name": "stdout",
     "output_type": "stream",
     "text": [
      "              precision    recall  f1-score   support\n",
      "\n",
      "         0.0       0.93      0.98      0.96     63323\n",
      "         1.0       0.85      0.65      0.74     12561\n",
      "\n",
      "   micro avg       0.92      0.92      0.92     75884\n",
      "   macro avg       0.89      0.82      0.85     75884\n",
      "weighted avg       0.92      0.92      0.92     75884\n",
      "\n"
     ]
    }
   ],
   "source": [
    "from sklearn.metrics import classification_report\n",
    "\n",
    "print(classification_report(y, NN_clf.predict(X)))"
   ]
  },
  {
   "cell_type": "code",
   "execution_count": 24,
   "metadata": {},
   "outputs": [
    {
     "name": "stderr",
     "output_type": "stream",
     "text": [
      "C:\\Users\\Dave Lei\\AppData\\Local\\Continuum\\anaconda3\\lib\\site-packages\\plotly\\offline\\offline.py:621: UserWarning:\n",
      "\n",
      "Your filename `speedYTrace Right Test set` didn't end with .html. Adding .html to the end of your file.\n",
      "\n"
     ]
    },
    {
     "data": {
      "text/plain": [
       "'file://C:\\\\Users\\\\Dave Lei\\\\Part IIB project\\\\Data logging\\\\speedYTrace Right Test set.html'"
      ]
     },
     "execution_count": 24,
     "metadata": {},
     "output_type": "execute_result"
    }
   ],
   "source": [
    "speedYTrace = go.Scatter(\n",
    "    x = df_threeMarkersWithSpeed['timeStamp'][40000:50000],\n",
    "    y = df_threeMarkersWithSpeed['delta_y_tip'][40000:50000],\n",
    "    mode = 'lines+markers',\n",
    "    name = 'speedMarkerY'\n",
    ")\n",
    "\n",
    "labelTrace = go.Scatter(\n",
    "    x = df_threeMarkersWithSpeed['timeStamp'][40000:50000],\n",
    "    y = df_threeMarkersWithSpeed['label'][40000:50000],\n",
    "    mode = 'markers',\n",
    "    name = 'label'\n",
    ")\n",
    "\n",
    "predictedLabelTrace = go.Scatter(\n",
    "    x = df_threeMarkersWithSpeed['timeStamp'][40000:50000],\n",
    "    y = NN_clf.predict(df_threeMarkersWithSpeed[features][40000:50000]),\n",
    "    mode = 'markers',\n",
    "    name = 'predictedLabel'\n",
    ")\n",
    "data = [speedYTrace, labelTrace, predictedLabelTrace]\n",
    "fig = go.Figure(data = data)\n",
    "\n",
    "py.offline.plot(fig, filename = \"speedYTrace Right Test set\")"
   ]
  },
  {
   "cell_type": "code",
   "execution_count": null,
   "metadata": {},
   "outputs": [],
   "source": []
  }
 ],
 "metadata": {
  "kernelspec": {
   "display_name": "Python 3",
   "language": "python",
   "name": "python3"
  },
  "language_info": {
   "codemirror_mode": {
    "name": "ipython",
    "version": 3
   },
   "file_extension": ".py",
   "mimetype": "text/x-python",
   "name": "python",
   "nbconvert_exporter": "python",
   "pygments_lexer": "ipython3",
   "version": "3.7.1"
  }
 },
 "nbformat": 4,
 "nbformat_minor": 2
}
