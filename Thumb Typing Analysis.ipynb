{
 "cells": [
  {
   "cell_type": "code",
   "execution_count": 2,
   "metadata": {},
   "outputs": [
    {
     "data": {
      "text/html": [
       "<script type=\"text/javascript\">window.PlotlyConfig = {MathJaxConfig: 'local'};</script><script type=\"text/javascript\">if (window.MathJax) {MathJax.Hub.Config({SVG: {font: \"STIX-Web\"}});}</script><script>requirejs.config({paths: { 'plotly': ['https://cdn.plot.ly/plotly-latest.min']},});if(!window._Plotly) {require(['plotly'],function(plotly) {window._Plotly=plotly;});}</script>"
      ],
      "text/vnd.plotly.v1+html": [
       "<script type=\"text/javascript\">window.PlotlyConfig = {MathJaxConfig: 'local'};</script><script type=\"text/javascript\">if (window.MathJax) {MathJax.Hub.Config({SVG: {font: \"STIX-Web\"}});}</script><script>requirejs.config({paths: { 'plotly': ['https://cdn.plot.ly/plotly-latest.min']},});if(!window._Plotly) {require(['plotly'],function(plotly) {window._Plotly=plotly;});}</script>"
      ]
     },
     "metadata": {},
     "output_type": "display_data"
    }
   ],
   "source": [
    "import matplotlib.pyplot as plt\n",
    "from mpl_toolkits.mplot3d import Axes3D\n",
    "import collections\n",
    "import numpy as np\n",
    "import plotly as py\n",
    "import plotly.graph_objs as go\n",
    "import datetime\n",
    "\n",
    "py.offline.init_notebook_mode(connected = True)\n"
   ]
  },
  {
   "cell_type": "code",
   "execution_count": 3,
   "metadata": {},
   "outputs": [],
   "source": [
    "markersDataFileName = \"2019-03-06-15-54-15-788_markers_exp1.txt\"\n",
    "phoneDataFileName = \"2019-03-06-15-54-15-854.txt\""
   ]
  },
  {
   "cell_type": "code",
   "execution_count": 4,
   "metadata": {},
   "outputs": [],
   "source": [
    "markersData = []\n",
    "phoneData = []\n",
    "\n",
    "with open(phoneDataFileName, 'r') as file:\n",
    "    itemHeaders = [\"timeStamp\", \"logIndex\", \"keyboardID\", \"eventID\", \"x\", \"y\"]\n",
    "    for line in file:\n",
    "        logEntry = line.split()\n",
    "        if len(logEntry) == len(itemHeaders):\n",
    "            phoneDatum = {itemName: data for itemName, data in zip(itemHeaders, logEntry)}\n",
    "            phoneDatum[\"timeStamp\"] = datetime.datetime.strptime(phoneDatum[\"timeStamp\"], \"%Y-%m-%d-%H-%M-%S-%f\")\n",
    "            phoneDatum[\"logIndex\"] = int(phoneDatum[\"logIndex\"])\n",
    "            phoneDatum[\"x\"] = float(phoneDatum[\"x\"])\n",
    "            phoneDatum[\"y\"] = float(phoneDatum[\"y\"])          \n",
    "            phoneData.append(phoneDatum)\n",
    "        \n",
    "with open(markersDataFileName, 'r') as file:\n",
    "    itemHeaders = [\"timeStamp\", \"logIndex\", \"markerID\", \"x\", \"y\", \"z\"]\n",
    "    for line in file:\n",
    "        if logEntry != \"\":\n",
    "            logEntry = line.split()\n",
    "            if len(logEntry) == len(itemHeaders):\n",
    "                timeStamp = datetime.datetime.strptime(logEntry[0], \"%Y-%m-%d-%H-%M-%S-%f\")\n",
    "                if timeStamp >= phoneData[0]['timeStamp']:\n",
    "                    markersDatum = {itemName: data for itemName, data in zip(itemHeaders, logEntry)}\n",
    "                    markersDatum[\"timeStamp\"] = timeStamp\n",
    "                    markersDatum[\"markerID\"] = int(markersDatum[\"markerID\"])\n",
    "                    markersDatum[\"logIndex\"] = int(markersDatum[\"logIndex\"])\n",
    "                    markersDatum[\"x\"] = float(markersDatum[\"x\"])\n",
    "                    markersDatum[\"y\"] = float(markersDatum[\"y\"])\n",
    "                    markersDatum['z'] = float(markersDatum['z'])\n",
    "                    markersData.append(markersDatum)\n",
    "        "
   ]
  },
  {
   "cell_type": "code",
   "execution_count": 5,
   "metadata": {},
   "outputs": [],
   "source": [
    "markersData.sort(key = lambda data: data[\"markerID\"])\n",
    "\n",
    "markersDataDictByID = collections.defaultdict(list)\n",
    "\n",
    "for markersDatum in markersData:\n",
    "    markersDataDictByID[markersDatum['markerID']].append(markersDatum)"
   ]
  },
  {
   "cell_type": "code",
   "execution_count": 6,
   "metadata": {},
   "outputs": [],
   "source": [
    "plotData = collections.defaultdict(list)\n",
    "for data in markersData:\n",
    "    if data['timeStamp'] >= phoneData[0]['timeStamp'] and data['timeStamp'] <= phoneData[-1]['timeStamp']:\n",
    "        plotData[data[\"markerID\"]].append([float(data['x']), float(data['y']), float(data['z'])])\n",
    "\n",
    "traces = []\n",
    "for markerID, trajectory in plotData.items():\n",
    "    trajectory = np.array(trajectory)\n",
    "    trace = go.Scatter3d(\n",
    "        x=trajectory[:,0],\n",
    "        y=trajectory[:,1],\n",
    "        z=trajectory[:,2],\n",
    "        mode='lines',\n",
    "        name = markerID\n",
    "    )\n",
    "    traces.append(trace)\n",
    "    \n",
    "fig = go.Figure(data = traces)\n",
    "\n"
   ]
  },
  {
   "cell_type": "code",
   "execution_count": 35,
   "metadata": {},
   "outputs": [
    {
     "name": "stderr",
     "output_type": "stream",
     "text": [
      "C:\\Users\\Dave Lei\\AppData\\Local\\Continuum\\anaconda3\\lib\\site-packages\\plotly\\offline\\offline.py:621: UserWarning:\n",
      "\n",
      "Your filename `all trajectory` didn't end with .html. Adding .html to the end of your file.\n",
      "\n"
     ]
    },
    {
     "data": {
      "text/plain": [
       "'file://C:\\\\Users\\\\Dave Lei\\\\Part IIB project\\\\Data logging\\\\all trajectory.html'"
      ]
     },
     "execution_count": 35,
     "metadata": {},
     "output_type": "execute_result"
    }
   ],
   "source": [
    "py.offline.plot(fig, filename = \"all trajectory\")"
   ]
  },
  {
   "cell_type": "code",
   "execution_count": 7,
   "metadata": {},
   "outputs": [],
   "source": [
    "leftThumbIDs = [63195]\n",
    "rightThumbIDs = [63217, 63744]\n",
    "leftWristID = [63537]\n",
    "rightWristID = [63181]\n",
    "\n"
   ]
  },
  {
   "cell_type": "code",
   "execution_count": 66,
   "metadata": {
    "scrolled": true
   },
   "outputs": [
    {
     "data": {
      "text/plain": [
       "'file://C:\\\\Users\\\\Dave Lei\\\\Part IIB project\\\\Data logging\\\\wrists-and-thumbs.html'"
      ]
     },
     "execution_count": 66,
     "metadata": {},
     "output_type": "execute_result"
    }
   ],
   "source": [
    "relevantIDs = leftThumbIDs + rightThumbIDs + leftWristID + rightWristID\n",
    "traces = []\n",
    "for markerID in relevantIDs:\n",
    "    trajectory = np.array(plotData[markerID])\n",
    "    trace = go.Scatter3d(\n",
    "        x=trajectory[:,0],\n",
    "        y=trajectory[:,1],\n",
    "        z=trajectory[:,2],\n",
    "        mode='lines',\n",
    "        name = markerID\n",
    "    )\n",
    "    traces.append(trace)\n",
    "    \n",
    "fig = go.Figure(data = traces)\n",
    "py.offline.plot(fig, filename = \"wrists-and-thumbs\")"
   ]
  },
  {
   "cell_type": "code",
   "execution_count": 8,
   "metadata": {},
   "outputs": [],
   "source": [
    "leftThumbTrajectory = []\n",
    "rightThumbTrajectory = []\n",
    "for markerID in leftThumbIDs:\n",
    "    leftThumbTrajectory.extend(markersDataDictByID[markerID])\n",
    "    \n",
    "for markerID in rightThumbIDs:\n",
    "    rightThumbTrajectory.extend(markersDataDictByID[markerID])\n",
    "\n",
    "leftThumbTrajectory.sort(key = lambda datum: datum['logIndex'])\n",
    "rightThumbTrajectory.sort(key = lambda datum: datum['logIndex'])"
   ]
  },
  {
   "cell_type": "code",
   "execution_count": 9,
   "metadata": {},
   "outputs": [
    {
     "data": {
      "image/png": "[encoded data removed]",
      "text/plain": [
       "<Figure size 1332x756 with 1 Axes>"
      ]
     },
     "metadata": {
      "needs_background": "light"
     },
     "output_type": "display_data"
    }
   ],
   "source": [
    "plt.plot([data['logIndex'] for data in leftThumbTrajectory][::50],[data['timeStamp'] for data in leftThumbTrajectory][::50],'ro', markerSize = 2)\n",
    "plt.plot([data['logIndex'] for data in rightThumbTrajectory][::50],[data['timeStamp'] for data in rightThumbTrajectory][::50],'bo', markerSize = 2)\n",
    "fig = plt.gcf()\n",
    "fig.set_size_inches(18.5, 10.5)"
   ]
  },
  {
   "cell_type": "code",
   "execution_count": null,
   "metadata": {},
   "outputs": [],
   "source": []
  }
 ],
 "metadata": {
  "kernelspec": {
   "display_name": "Python 3",
   "language": "python",
   "name": "python3"
  },
  "language_info": {
   "codemirror_mode": {
    "name": "ipython",
    "version": 3
   },
   "file_extension": ".py",
   "mimetype": "text/x-python",
   "name": "python",
   "nbconvert_exporter": "python",
   "pygments_lexer": "ipython3",
   "version": "3.7.1"
  }
 },
 "nbformat": 4,
 "nbformat_minor": 2
}
